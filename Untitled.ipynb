{
 "cells": [
  {
   "cell_type": "code",
   "execution_count": 1,
   "id": "da484952",
   "metadata": {},
   "outputs": [],
   "source": [
    "from numpy import *"
   ]
  },
  {
   "cell_type": "code",
   "execution_count": 5,
   "id": "ac9e1fff",
   "metadata": {},
   "outputs": [
    {
     "data": {
      "text/plain": [
       "array([[ 3, 10,  7,  1,  2],\n",
       "       [ 9,  8,  8,  4,  9],\n",
       "       [ 4,  3,  8,  9, 10],\n",
       "       [ 4,  9, 10,  5,  9],\n",
       "       [ 6,  3,  8,  7,  9],\n",
       "       [ 8,  7,  2,  4, 10],\n",
       "       [ 5,  7,  1,  6,  1],\n",
       "       [ 0, 10,  7,  0,  1],\n",
       "       [ 4,  9,  4,  2,  7],\n",
       "       [ 9,  7,  5,  2,  3]])"
      ]
     },
     "execution_count": 5,
     "metadata": {},
     "output_type": "execute_result"
    }
   ],
   "source": [
    "\n",
    "\n",
    "\n",
    "\n",
    "\n",
    "\n",
    "\n",
    "\n",
    "\n",
    "\n",
    "\n",
    "num_movies = 10\n",
    "num_users = 5\n",
    "ratings = random.randint(11, size = (num_movies, num_users))\n",
    "ratings"
   ]
  },
  {
   "cell_type": "code",
   "execution_count": 6,
   "id": "7a23d5f9",
   "metadata": {},
   "outputs": [
    {
     "name": "stdout",
     "output_type": "stream",
     "text": [
      "[[1 1 1 1 1]\n",
      " [1 1 1 1 1]\n",
      " [1 1 1 1 1]\n",
      " [1 1 1 1 1]\n",
      " [1 1 1 1 1]\n",
      " [1 1 1 1 1]\n",
      " [1 1 1 1 1]\n",
      " [0 1 1 0 1]\n",
      " [1 1 1 1 1]\n",
      " [1 1 1 1 1]]\n"
     ]
    }
   ],
   "source": [
    "did_rate = (ratings != 0) * 1\n",
    "print(did_rate)"
   ]
  },
  {
   "cell_type": "code",
   "execution_count": 7,
   "id": "c05b5aa2",
   "metadata": {},
   "outputs": [
    {
     "name": "stdout",
     "output_type": "stream",
     "text": [
      "[[ True  True  True  True  True]\n",
      " [ True  True  True  True  True]\n",
      " [ True  True  True  True  True]\n",
      " [ True  True  True  True  True]\n",
      " [ True  True  True  True  True]\n",
      " [ True  True  True  True  True]\n",
      " [ True  True  True  True  True]\n",
      " [False  True  True False  True]\n",
      " [ True  True  True  True  True]\n",
      " [ True  True  True  True  True]]\n"
     ]
    }
   ],
   "source": [
    "print(ratings != 0)"
   ]
  },
  {
   "cell_type": "code",
   "execution_count": 10,
   "id": "e77cd5c3",
   "metadata": {},
   "outputs": [
    {
     "data": {
      "text/plain": [
       "(10, 5)"
      ]
     },
     "execution_count": 10,
     "metadata": {},
     "output_type": "execute_result"
    }
   ],
   "source": [
    "ratings.shape"
   ]
  },
  {
   "cell_type": "code",
   "execution_count": 11,
   "id": "de7da80a",
   "metadata": {},
   "outputs": [
    {
     "data": {
      "text/plain": [
       "(10, 5)"
      ]
     },
     "execution_count": 11,
     "metadata": {},
     "output_type": "execute_result"
    }
   ],
   "source": [
    "did_rate.shape"
   ]
  },
  {
   "cell_type": "code",
   "execution_count": 12,
   "id": "4ac03f28",
   "metadata": {},
   "outputs": [
    {
     "data": {
      "text/plain": [
       "array([[0.],\n",
       "       [0.],\n",
       "       [0.],\n",
       "       [0.],\n",
       "       [0.],\n",
       "       [0.],\n",
       "       [0.],\n",
       "       [0.],\n",
       "       [0.],\n",
       "       [0.]])"
      ]
     },
     "execution_count": 12,
     "metadata": {},
     "output_type": "execute_result"
    }
   ],
   "source": [
    "nikhil_ratings = zeros((num_movies, 1))\n",
    "nikhil_ratings"
   ]
  },
  {
   "cell_type": "code",
   "execution_count": 13,
   "id": "4e09140c",
   "metadata": {},
   "outputs": [
    {
     "name": "stdout",
     "output_type": "stream",
     "text": [
      "[[8.]\n",
      " [0.]\n",
      " [0.]\n",
      " [0.]\n",
      " [7.]\n",
      " [0.]\n",
      " [0.]\n",
      " [3.]\n",
      " [0.]\n",
      " [0.]]\n"
     ]
    }
   ],
   "source": [
    "nikhil_ratings[0] = 8\n",
    "nikhil_ratings[4] = 7\n",
    "nikhil_ratings[7] = 3\n",
    "\n",
    "print(nikhil_ratings)"
   ]
  },
  {
   "cell_type": "code",
   "execution_count": 14,
   "id": "0e1d0366",
   "metadata": {},
   "outputs": [
    {
     "data": {
      "text/plain": [
       "array([[ 8.,  3., 10.,  7.,  1.,  2.],\n",
       "       [ 0.,  9.,  8.,  8.,  4.,  9.],\n",
       "       [ 0.,  4.,  3.,  8.,  9., 10.],\n",
       "       [ 0.,  4.,  9., 10.,  5.,  9.],\n",
       "       [ 7.,  6.,  3.,  8.,  7.,  9.],\n",
       "       [ 0.,  8.,  7.,  2.,  4., 10.],\n",
       "       [ 0.,  5.,  7.,  1.,  6.,  1.],\n",
       "       [ 3.,  0., 10.,  7.,  0.,  1.],\n",
       "       [ 0.,  4.,  9.,  4.,  2.,  7.],\n",
       "       [ 0.,  9.,  7.,  5.,  2.,  3.]])"
      ]
     },
     "execution_count": 14,
     "metadata": {},
     "output_type": "execute_result"
    }
   ],
   "source": [
    "ratings = append(nikhil_ratings, ratings, axis = 1)\n",
    "did_rate = append(((nikhil_ratings != 0) * 1), did_rate, axis = 1)\n",
    "ratings"
   ]
  },
  {
   "cell_type": "code",
   "execution_count": 15,
   "id": "c57ec484",
   "metadata": {},
   "outputs": [
    {
     "data": {
      "text/plain": [
       "(10, 6)"
      ]
     },
     "execution_count": 15,
     "metadata": {},
     "output_type": "execute_result"
    }
   ],
   "source": [
    "ratings.shape"
   ]
  },
  {
   "cell_type": "code",
   "execution_count": 16,
   "id": "006376f6",
   "metadata": {},
   "outputs": [
    {
     "data": {
      "text/plain": [
       "(10, 6)"
      ]
     },
     "execution_count": 16,
     "metadata": {},
     "output_type": "execute_result"
    }
   ],
   "source": [
    "did_rate.shape"
   ]
  },
  {
   "cell_type": "code",
   "execution_count": 17,
   "id": "ec6da785",
   "metadata": {},
   "outputs": [],
   "source": [
    "def normalize_ratings(ratings, did_rate):\n",
    "    num_movies = ratings.shape[0]\n",
    "    \n",
    "    ratings_mean = zeros(shape = (num_movies, 1))\n",
    "    ratings_norm = zeros(shape = ratings.shape)\n",
    "    \n",
    "    for i in range(num_movies): \n",
    "        # Get all the indexes where there is a 1\n",
    "        idx = where(did_rate[i] == 1)[0]\n",
    "        #  Calculate mean rating of ith movie only from user's that gave a rating\n",
    "        ratings_mean[i] = mean(ratings[i, idx])\n",
    "        ratings_norm[i, idx] = ratings[i, idx] - ratings_mean[i]\n",
    "    \n",
    "    return ratings_norm, ratings_mean\n",
    "\n",
    "        \n",
    "    \n",
    "\n"
   ]
  },
  {
   "cell_type": "code",
   "execution_count": 18,
   "id": "680f35d2",
   "metadata": {},
   "outputs": [],
   "source": [
    "ratings, ratings_mean = normalize_ratings(ratings, did_rate)\n"
   ]
  },
  {
   "cell_type": "code",
   "execution_count": 19,
   "id": "0e588f92",
   "metadata": {},
   "outputs": [],
   "source": [
    "num_users = ratings.shape[1]\n",
    "num_features = 3"
   ]
  },
  {
   "cell_type": "code",
   "execution_count": 20,
   "id": "7ee0b8f0",
   "metadata": {},
   "outputs": [],
   "source": [
    "movie_features = random.randn( num_movies, num_features )\n",
    "user_prefs = random.randn( num_users, num_features )\n",
    "initial_X_and_theta = r_[movie_features.T.flatten(), user_prefs.T.flatten()]\n"
   ]
  },
  {
   "cell_type": "code",
   "execution_count": 21,
   "id": "a35c29c4",
   "metadata": {},
   "outputs": [
    {
     "name": "stdout",
     "output_type": "stream",
     "text": [
      "[[-1.02281089 -0.40510341 -0.77379266]\n",
      " [-0.70610027 -1.39180658  1.74059376]\n",
      " [-0.55850059  1.14846858  0.80900013]\n",
      " [-0.12723393  1.21926517  0.38086513]\n",
      " [-0.89233899  0.1128361   0.37318825]\n",
      " [ 0.78265779  0.26479409 -0.21547823]\n",
      " [ 1.48665623  2.32742214 -1.59062787]\n",
      " [-0.01149228  1.34006672  0.75705559]\n",
      " [-1.99104449 -0.09229761  1.69602151]\n",
      " [ 0.90384035 -0.25239067 -0.32014108]]\n",
      "[[-2.71528202 -1.95179067 -0.85956351]\n",
      " [-0.19158883 -0.23489697 -0.87349652]\n",
      " [-1.21282023 -1.79904379 -1.57102257]\n",
      " [-0.83317731 -0.897327   -1.23856079]\n",
      " [ 0.48077443  0.71723651 -0.57680586]\n",
      " [-0.53452752 -0.70798048 -0.63186325]]\n",
      "[-1.02281089 -0.70610027 -0.55850059 -0.12723393 -0.89233899  0.78265779\n",
      "  1.48665623 -0.01149228 -1.99104449  0.90384035 -0.40510341 -1.39180658\n",
      "  1.14846858  1.21926517  0.1128361   0.26479409  2.32742214  1.34006672\n",
      " -0.09229761 -0.25239067 -0.77379266  1.74059376  0.80900013  0.38086513\n",
      "  0.37318825 -0.21547823 -1.59062787  0.75705559  1.69602151 -0.32014108\n",
      " -2.71528202 -0.19158883 -1.21282023 -0.83317731  0.48077443 -0.53452752\n",
      " -1.95179067 -0.23489697 -1.79904379 -0.897327    0.71723651 -0.70798048\n",
      " -0.85956351 -0.87349652 -1.57102257 -1.23856079 -0.57680586 -0.63186325]\n"
     ]
    }
   ],
   "source": [
    "print(movie_features)\n",
    "\n",
    "\n",
    "print(user_prefs)\n",
    "\n",
    "\n",
    "print(initial_X_and_theta)"
   ]
  },
  {
   "cell_type": "code",
   "execution_count": 22,
   "id": "44d2ccf9",
   "metadata": {},
   "outputs": [
    {
     "data": {
      "text/plain": [
       "(48,)"
      ]
     },
     "execution_count": 22,
     "metadata": {},
     "output_type": "execute_result"
    }
   ],
   "source": [
    "initial_X_and_theta.shape"
   ]
  },
  {
   "cell_type": "code",
   "execution_count": 23,
   "id": "e815a3e7",
   "metadata": {},
   "outputs": [
    {
     "data": {
      "text/plain": [
       "(30,)"
      ]
     },
     "execution_count": 23,
     "metadata": {},
     "output_type": "execute_result"
    }
   ],
   "source": [
    "movie_features.T.flatten().shape\n"
   ]
  },
  {
   "cell_type": "code",
   "execution_count": 24,
   "id": "7c3c80bb",
   "metadata": {},
   "outputs": [
    {
     "data": {
      "text/plain": [
       "(18,)"
      ]
     },
     "execution_count": 24,
     "metadata": {},
     "output_type": "execute_result"
    }
   ],
   "source": [
    "user_prefs.T.flatten().shape\n"
   ]
  },
  {
   "cell_type": "code",
   "execution_count": 25,
   "id": "4dd4c118",
   "metadata": {},
   "outputs": [
    {
     "data": {
      "text/plain": [
       "array([-1.02281089, -0.70610027, -0.55850059, -0.12723393, -0.89233899,\n",
       "        0.78265779,  1.48665623, -0.01149228, -1.99104449,  0.90384035,\n",
       "       -0.40510341, -1.39180658,  1.14846858,  1.21926517,  0.1128361 ,\n",
       "        0.26479409,  2.32742214,  1.34006672, -0.09229761, -0.25239067,\n",
       "       -0.77379266,  1.74059376,  0.80900013,  0.38086513,  0.37318825,\n",
       "       -0.21547823, -1.59062787,  0.75705559,  1.69602151, -0.32014108,\n",
       "       -2.71528202, -0.19158883, -1.21282023, -0.83317731,  0.48077443,\n",
       "       -0.53452752, -1.95179067, -0.23489697, -1.79904379, -0.897327  ,\n",
       "        0.71723651, -0.70798048, -0.85956351, -0.87349652, -1.57102257,\n",
       "       -1.23856079, -0.57680586, -0.63186325])"
      ]
     },
     "execution_count": 25,
     "metadata": {},
     "output_type": "execute_result"
    }
   ],
   "source": [
    "initial_X_and_theta"
   ]
  },
  {
   "cell_type": "code",
   "execution_count": 26,
   "id": "03c38b49",
   "metadata": {},
   "outputs": [],
   "source": [
    "def unroll_params(X_and_theta, num_users, num_movies, num_features):\n",
    "\t# Retrieve the X and theta matrixes from X_and_theta, based on their dimensions (num_features, num_movies, num_movies)\n",
    "\t# --------------------------------------------------------------------------------------------------------------\n",
    "\t# Get the first 30 (10 * 3) rows in the 48 X 1 column vector\n",
    "\tfirst_30 = X_and_theta[:num_movies * num_features]\n",
    "\t# Reshape this column vector into a 10 X 3 matrix\n",
    "\tX = first_30.reshape((num_features, num_movies)).transpose()\n",
    "\t# Get the rest of the 18 the numbers, after the first 30\n",
    "\tlast_18 = X_and_theta[num_movies * num_features:]\n",
    "\t# Reshape this column vector into a 6 X 3 matrix\n",
    "\ttheta = last_18.reshape(num_features, num_users ).transpose()\n",
    "\treturn X, theta"
   ]
  },
  {
   "cell_type": "code",
   "execution_count": 27,
   "id": "2a1f393b",
   "metadata": {},
   "outputs": [],
   "source": [
    "def calculate_gradient(X_and_theta, ratings, did_rate, num_users, num_movies, num_features, reg_param):\n",
    "\tX, theta = unroll_params(X_and_theta, num_users, num_movies, num_features)\n",
    "\t\n",
    "\t# we multiply by did_rate because we only want to consider observations for which a rating was given\n",
    "\tdifference = X.dot( theta.T ) * did_rate - ratings\n",
    "\tX_grad = difference.dot( theta ) + reg_param * X\n",
    "\ttheta_grad = difference.T.dot( X ) + reg_param * theta\n",
    "\t\n",
    "\t# wrap the gradients back into a column vector \n",
    "\treturn r_[X_grad.T.flatten(), theta_grad.T.flatten()]\n"
   ]
  },
  {
   "cell_type": "code",
   "execution_count": 28,
   "id": "fd4026bf",
   "metadata": {},
   "outputs": [],
   "source": [
    "def calculate_cost(X_and_theta, ratings, did_rate, num_users, num_movies, num_features, reg_param):\n",
    "\tX, theta = unroll_params(X_and_theta, num_users, num_movies, num_features)\n",
    "\t\n",
    "\t# we multiply (element-wise) by did_rate because we only want to consider observations for which a rating was given\n",
    "\tcost = sum( (X.dot( theta.T ) * did_rate - ratings) ** 2 ) / 2\n",
    "\t# '**' means an element-wise power\n",
    "\tregularization = (reg_param / 2) * (sum( theta**2 ) + sum(X**2))\n",
    "\treturn cost + regularization\n"
   ]
  },
  {
   "cell_type": "code",
   "execution_count": 29,
   "id": "458a8908",
   "metadata": {},
   "outputs": [],
   "source": [
    "from scipy import optimize\n"
   ]
  },
  {
   "cell_type": "code",
   "execution_count": 30,
   "id": "26303c2b",
   "metadata": {},
   "outputs": [],
   "source": [
    "reg_param = 30\n"
   ]
  },
  {
   "cell_type": "code",
   "execution_count": 32,
   "id": "e0a1b7d3",
   "metadata": {},
   "outputs": [
    {
     "name": "stdout",
     "output_type": "stream",
     "text": [
      "Optimization terminated successfully.\n",
      "         Current function value: 179.258333\n",
      "         Iterations: 11\n",
      "         Function evaluations: 23\n",
      "         Gradient evaluations: 23\n"
     ]
    }
   ],
   "source": [
    "minimized_cost_and_optimal_params = optimize.fmin_cg(calculate_cost, fprime=calculate_gradient, x0=initial_X_and_theta,args=(ratings, did_rate, num_users, num_movies, num_features, reg_param),maxiter=100, disp=True, full_output=True )"
   ]
  },
  {
   "cell_type": "code",
   "execution_count": 33,
   "id": "68ffe7c1",
   "metadata": {},
   "outputs": [],
   "source": [
    "cost, optimal_movie_features_and_user_prefs = minimized_cost_and_optimal_params[1], minimized_cost_and_optimal_params[0]\n"
   ]
  },
  {
   "cell_type": "code",
   "execution_count": 34,
   "id": "99ca1ddb",
   "metadata": {},
   "outputs": [],
   "source": [
    "movie_features, user_prefs = unroll_params(optimal_movie_features_and_user_prefs, num_users, num_movies, num_features)\n"
   ]
  },
  {
   "cell_type": "code",
   "execution_count": 35,
   "id": "98abb0d0",
   "metadata": {},
   "outputs": [
    {
     "data": {
      "text/plain": [
       "array([[ 2.07646924e-08, -8.43831087e-08, -8.64122091e-08],\n",
       "       [-8.92999351e-08,  8.81897508e-08,  2.41035276e-08],\n",
       "       [ 4.95228925e-08, -5.54562100e-08,  2.93266214e-08],\n",
       "       [ 3.11766611e-08, -6.22330585e-08,  8.04078982e-08],\n",
       "       [-1.49409141e-08,  3.89812956e-08, -1.53857624e-08],\n",
       "       [-9.38888074e-08, -1.35259407e-08,  6.62937638e-08],\n",
       "       [ 3.86015911e-08, -7.70052186e-08, -2.79133807e-08],\n",
       "       [ 6.39295052e-08,  2.32688814e-08,  8.25025158e-08],\n",
       "       [-2.48838409e-08, -8.19332753e-08,  1.01776969e-07],\n",
       "       [-9.92826454e-08,  1.48855487e-07, -4.77465812e-08]])"
      ]
     },
     "execution_count": 35,
     "metadata": {},
     "output_type": "execute_result"
    }
   ],
   "source": [
    "movie_features"
   ]
  },
  {
   "cell_type": "code",
   "execution_count": 36,
   "id": "0a5a69d9",
   "metadata": {},
   "outputs": [],
   "source": [
    "all_predictions = movie_features.dot( user_prefs.T )\n"
   ]
  },
  {
   "cell_type": "code",
   "execution_count": 37,
   "id": "8768bcca",
   "metadata": {},
   "outputs": [
    {
     "data": {
      "text/plain": [
       "array([[ 1.55271274e-14, -6.03619182e-15, -8.38099618e-16,\n",
       "        -2.17387982e-15, -1.07900299e-15, -3.95114778e-15],\n",
       "       [-1.70200575e-15,  4.32849579e-15,  2.12534264e-15,\n",
       "        -9.19724085e-15, -8.03692258e-16,  5.29697088e-15],\n",
       "       [-9.93379765e-16, -1.72490867e-15, -1.97060200e-15,\n",
       "         6.82983556e-15,  1.85233056e-16, -2.46013919e-15],\n",
       "       [-7.57778117e-16, -9.82087434e-16, -2.82018145e-15,\n",
       "         6.56600002e-15, -6.72228272e-16, -1.28032866e-15],\n",
       "       [-2.59739318e-15,  1.46190705e-15,  1.22917455e-15,\n",
       "        -2.03583990e-15,  4.73982097e-16,  1.17496878e-15],\n",
       "       [ 1.13784563e-14,  2.82539892e-16, -9.40414227e-16,\n",
       "        -9.37327114e-15, -3.40010527e-15,  3.64709583e-15],\n",
       "       [ 7.77759579e-15, -4.19216749e-15, -1.59853400e-15,\n",
       "         2.70065234e-15, -5.04420862e-16, -3.47496034e-15],\n",
       "       [-1.85958592e-14,  3.48165091e-15, -9.14630010e-16,\n",
       "         1.20109516e-14,  2.31215167e-15, -2.55191745e-16],\n",
       "       [ 9.02994393e-15, -1.81067360e-15, -3.39218393e-15,\n",
       "         3.50078386e-17, -2.92377533e-15,  3.50397944e-16],\n",
       "       [-4.42792469e-15,  5.56921145e-15,  4.69701116e-15,\n",
       "        -1.27083641e-14,  4.69203426e-16,  5.99294651e-15]])"
      ]
     },
     "execution_count": 37,
     "metadata": {},
     "output_type": "execute_result"
    }
   ],
   "source": [
    "all_predictions"
   ]
  },
  {
   "cell_type": "code",
   "execution_count": 38,
   "id": "01f78d2c",
   "metadata": {},
   "outputs": [
    {
     "data": {
      "text/plain": [
       "array([[5.16666667],\n",
       "       [7.6       ],\n",
       "       [6.8       ],\n",
       "       [7.4       ],\n",
       "       [6.66666667],\n",
       "       [6.2       ],\n",
       "       [4.        ],\n",
       "       [5.25      ],\n",
       "       [5.2       ],\n",
       "       [5.2       ]])"
      ]
     },
     "execution_count": 38,
     "metadata": {},
     "output_type": "execute_result"
    }
   ],
   "source": [
    "predictions_for_nikhil = all_predictions[:, 0:1] + ratings_mean\n",
    "\n",
    "predictions_for_nikhil"
   ]
  },
  {
   "cell_type": "code",
   "execution_count": 42,
   "id": "bd0e115e",
   "metadata": {},
   "outputs": [
    {
     "data": {
      "text/plain": [
       "array([[8.],\n",
       "       [0.],\n",
       "       [0.],\n",
       "       [0.],\n",
       "       [7.],\n",
       "       [0.],\n",
       "       [0.],\n",
       "       [3.],\n",
       "       [0.],\n",
       "       [0.]])"
      ]
     },
     "execution_count": 42,
     "metadata": {},
     "output_type": "execute_result"
    }
   ],
   "source": [
    "nikhil_ratings"
   ]
  },
  {
   "cell_type": "code",
   "execution_count": null,
   "id": "226d291e",
   "metadata": {},
   "outputs": [],
   "source": []
  }
 ],
 "metadata": {
  "kernelspec": {
   "display_name": "Python 3 (ipykernel)",
   "language": "python",
   "name": "python3"
  },
  "language_info": {
   "codemirror_mode": {
    "name": "ipython",
    "version": 3
   },
   "file_extension": ".py",
   "mimetype": "text/x-python",
   "name": "python",
   "nbconvert_exporter": "python",
   "pygments_lexer": "ipython3",
   "version": "3.11.5"
  }
 },
 "nbformat": 4,
 "nbformat_minor": 5
}
